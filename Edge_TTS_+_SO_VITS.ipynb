{
  "nbformat": 4,
  "nbformat_minor": 0,
  "metadata": {
    "colab": {
      "provenance": [],
      "gpuType": "T4",
      "include_colab_link": true
    },
    "kernelspec": {
      "name": "python3",
      "display_name": "Python 3"
    },
    "language_info": {
      "name": "python"
    },
    "accelerator": "GPU",
    "gpuClass": "standard"
  },
  "cells": [
    {
      "cell_type": "markdown",
      "metadata": {
        "id": "view-in-github",
        "colab_type": "text"
      },
      "source": [
        "<a href=\"https://colab.research.google.com/github/ardha27/Edge_TTS_Sovits/blob/main/Edge_TTS_%2B_SO_VITS.ipynb\" target=\"_parent\"><img src=\"https://colab.research.google.com/assets/colab-badge.svg\" alt=\"Open In Colab\"/></a>"
      ]
    },
    {
      "cell_type": "code",
      "source": [
        "#@title Mount Google Drive\n",
        "from google.colab import drive\n",
        "drive.mount('/content/drive')"
      ],
      "metadata": {
        "id": "GCEVfxIOh7tE"
      },
      "execution_count": null,
      "outputs": []
    },
    {
      "cell_type": "code",
      "execution_count": null,
      "metadata": {
        "collapsed": true,
        "id": "6BnxhPgVPvzU"
      },
      "outputs": [],
      "source": [
        "#@title Install dependencies\n",
        "!python -m pip install -U pip wheel\n",
        "!pip install -U ipython\n",
        "!pip install -U so-vits-svc-fork\n",
        "!pip install edge-tts"
      ]
    },
    {
      "cell_type": "code",
      "source": [
        "#@title Credit - https://huggingface.co/spaces/zomehwh/sovits-models\n",
        "!mkdir so-vits-test\n",
        "!wget -N \"https://huggingface.co/spaces/zomehwh/sovits-models/resolve/main/models/alice/alice.pth\" -P so-vits-test/\n",
        "!wget -N \"https://huggingface.co/spaces/zomehwh/sovits-models/resolve/main/models/alice/config.json\" -P so-vits-test/"
      ],
      "metadata": {
        "id": "LPysEbyRUOTH"
      },
      "execution_count": null,
      "outputs": []
    },
    {
      "cell_type": "code",
      "source": [
        "#@title Generate TTS and Inference\n",
        "#@markdown don't give space on any folder/file name on the path\n",
        "import subprocess\n",
        "from IPython.display import Audio, display\n",
        "\n",
        "gender = \"Female\" #@param [\"Male\", \"Female\"]\n",
        "text = \"hai salam kenal\" #@param {type:\"string\"}\n",
        "\n",
        "if gender == \"Male\":\n",
        "  command = ['edge-tts', '--voice', 'id-ID-ArdiNeural', '--text', text, '--write-media', 'edge.wav', '--write-subtitles', 'edge.vtt']\n",
        "  result = subprocess.run(command, stdout=subprocess.PIPE, text=True)\n",
        "  print(result.stdout)\n",
        "elif gender == \"Female\":\n",
        "  command = ['edge-tts', '--voice', 'id-ID-GadisNeural', '--text', text, '--write-media', 'edge.wav', '--write-subtitles', 'edge.vtt']\n",
        "  result = subprocess.run(command, stdout=subprocess.PIPE, text=True)\n",
        "  print(result.stdout)\n",
        "\n",
        "try:\n",
        "  display(Audio(\"edge.wav\", autoplay=True))\n",
        "except Exception as e:  print(\"Error:\", str(e))\n",
        "\n",
        "AUDIO = \"/content/edge\" #@param {type:\"string\"}\n",
        "MODEL = \"/content/so-vits-test/alice.pth\" #@param {type:\"string\"}\n",
        "CONFIG = \"/content/so-vits-test/config.json\" #@param {type:\"string\"}\n",
        "PITCH = 0 #@param {type:\"slider\", min:-12, max:12, step:1}\n",
        "\n",
        "!svc infer {AUDIO}.wav -c {CONFIG} -m {MODEL} -na -t {PITCH}\n",
        "# Try comment this line below if you got Runtime Error\n",
        "try:\n",
        "  display(Audio(f\"{AUDIO}.out.wav\", autoplay=True))\n",
        "except Exception as e:  print(\"Error:\", str(e))"
      ],
      "metadata": {
        "id": "-vXBn5jFQITv"
      },
      "execution_count": null,
      "outputs": []
    }
  ]
}